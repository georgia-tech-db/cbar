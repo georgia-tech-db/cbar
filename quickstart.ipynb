{
 "cells": [
  {
   "cell_type": "markdown",
   "metadata": {},
   "source": [
    "\n",
    "# Quickstart guide"
   ]
  },
  {
   "cell_type": "markdown",
   "metadata": {},
   "source": [
    "This example demonstrates how to build a simple content-based audio retrieval model and evaluate the retrieval accuracy on a small song dataset, CAL500. This dataset consists of 502 western pop songs, performed by 499 unique artists. Each song is tagged by at least three people using a standard survey and a fixed tag vocabulary of 174 musical concepts.\n",
    "\n",
    "This package includes a loading utility for getting and processing this dataset, which makes loading quite easy."
   ]
  },
  {
   "cell_type": "code",
   "execution_count": 1,
   "metadata": {},
   "outputs": [],
   "source": [
    "from cbar.datasets import fetch_cal500\n",
    "\n",
    "X, Y = fetch_cal500()"
   ]
  },
  {
   "cell_type": "markdown",
   "metadata": {},
   "source": [
    "Calling `fetch_cal500()` initally downloads the CAL500 dataset to a subfolder of your home directory. You can specify a different location using the `data_home` parameter (`fetch_cal500(data_home='path')`). Subsequents calls simply load the dataset.\n",
    "\n",
    "The raw dataset consists of about 10,000 39-dimensional features vectors\n",
    "per minute of audio content which were created by\n",
    "\n",
    "1. Sliding a half-overlapping short-time window of 12 milliseconds over each song's waveform data.\n",
    "2. Extracting the 13 mel-frequency cepstral coefficients.\n",
    "3. Appending the instantaneous first-order and second-order derivatives.\n",
    "\n",
    "Each song is, then, represented by exactly 10,000 randomly subsampled, real-valued feature vectors as a *bag-of-frames*. The *bag-of-frames* features are further processed into one *k*-dimensional feature vector by encoding the feature vectors using a codebook and pooling them into one compact vector.\n",
    "\n",
    "Specifically, *k*-means is used to cluster all frame vectors into *k* clusters. The resulting cluster centers correspond to the codewords in the codebook. Each frame vector is assigned to its closest cluster center and a song represented as the counts of frames assigned to each of the *k* cluster centers.\n",
    "\n",
    "By default, `fetch_cal500()` uses a codebook size of 512 but this size is easily modified with the `codebook_size` parameter (`fetch_cal500(codebook_size=1024)`)."
   ]
  },
  {
   "cell_type": "code",
   "execution_count": 2,
   "metadata": {},
   "outputs": [
    {
     "data": {
      "text/plain": [
       "((502, 512), (502, 174))"
      ]
     },
     "execution_count": 2,
     "metadata": {},
     "output_type": "execute_result"
    }
   ],
   "source": [
    "X.shape, Y.shape"
   ]
  },
  {
   "cell_type": "markdown",
   "metadata": {},
   "source": [
    "Let's split the data into training data and test data, fit the model on the training data, and evaluate it on the test data. Import and instantiate the model first."
   ]
  },
  {
   "cell_type": "code",
   "execution_count": 3,
   "metadata": {},
   "outputs": [],
   "source": [
    "from cbar.loreta import LoretaWARP\n",
    "\n",
    "model = LoretaWARP(n0=0.1, valid_interval=1000)"
   ]
  },
  {
   "cell_type": "markdown",
   "metadata": {},
   "source": [
    "Then split the data and fit the model using the training data."
   ]
  },
  {
   "cell_type": "code",
   "execution_count": 4,
   "metadata": {},
   "outputs": [
    {
     "name": "stderr",
     "output_type": "stream",
     "text": [
      "/home/rocket/miniconda3/envs/cbar/lib/python3.7/site-packages/sklearn/model_selection/_split.py:2179: FutureWarning: From version 0.21, test_size will always complement train_size unless both are specified.\n",
      "  FutureWarning)\n"
     ]
    },
    {
     "name": "stdout",
     "output_type": "stream",
     "text": [
      "iter:        0, stepsize:    0.100, P10: 0.168, AP: 0.165, loss: 0.000\n",
      "iter:     1000, stepsize:    0.100, P10: 0.217, AP: 0.201, loss: 0.999\n",
      "iter:     2000, stepsize:    0.100, P10: 0.235, AP: 0.200, loss: 0.993\n",
      "iter:     3000, stepsize:    0.100, P10: 0.190, AP: 0.196, loss: 0.985\n",
      "iter:     4000, stepsize:    0.100, P10: 0.201, AP: 0.196, loss: 0.967\n",
      "iter:     5000, stepsize:    0.100, P10: 0.186, AP: 0.196, loss: 0.955\n",
      "iter:     6000, stepsize:    0.100, P10: 0.188, AP: 0.196, loss: 0.943\n",
      "iter:     7000, stepsize:    0.100, P10: 0.187, AP: 0.194, loss: 0.931\n",
      "iter:     8000, stepsize:    0.100, P10: 0.178, AP: 0.194, loss: 0.922\n",
      "iter:     9000, stepsize:    0.100, P10: 0.190, AP: 0.193, loss: 0.919\n",
      "iter:    10000, stepsize:    0.100, P10: 0.190, AP: 0.192, loss: 0.906\n",
      "iter:    11000, stepsize:    0.100, P10: 0.183, AP: 0.189, loss: 0.888\n",
      "2019-04-08 23:14:47,010 [MainThread  ] [WARNI]  max_dips reached, stopped at 12000 iterations.\n",
      "CPU times: user 53.7 s, sys: 1.22 s, total: 54.9 s\n",
      "Wall time: 30 s\n"
     ]
    },
    {
     "data": {
      "text/plain": [
       "cbar.loreta.LoretaWARP(max_iter=100000, k=30, n0=0.1, n1=0.0, rank_thresh=0.1, lambda_=0.1, loss='warp', max_dips=10, valid_interval=1000)"
      ]
     },
     "execution_count": 4,
     "metadata": {},
     "output_type": "execute_result"
    }
   ],
   "source": [
    "from cbar.cross_validation import train_test_split_plus\n",
    "\n",
    "(X_train, X_test,\n",
    " Y_train, Y_test,\n",
    " Q_vec, weights) = train_test_split_plus(X, Y)\n",
    "\n",
    "%time model.fit(X_train, Y_train, Q_vec, X_test, Y_test)"
   ]
  },
  {
   "cell_type": "markdown",
   "metadata": {},
   "source": [
    "Now, predict the scores for each query with all songs. Ordering the songs from highest to lowest score corresponds to the ranking."
   ]
  },
  {
   "cell_type": "code",
   "execution_count": 5,
   "metadata": {},
   "outputs": [],
   "source": [
    "Y_score = model.predict(Q_vec, X_test)"
   ]
  },
  {
   "cell_type": "markdown",
   "metadata": {},
   "source": [
    "Evaluate the predictions."
   ]
  },
  {
   "cell_type": "code",
   "execution_count": 6,
   "metadata": {},
   "outputs": [
    {
     "data": {
      "text/plain": [
       "defaultdict(list,\n",
       "            {1: [0.1951219512195122],\n",
       "             2: [0.17073170731707318],\n",
       "             3: [0.1798780487804878],\n",
       "             4: [0.17276422764227645],\n",
       "             5: [0.1736788617886179],\n",
       "             6: [0.1681910569105691],\n",
       "             7: [0.17341753774680602],\n",
       "             8: [0.17802700348432055],\n",
       "             9: [0.17933120402632596],\n",
       "             10: [0.1813709833526907],\n",
       "             11: [0.1833922852215535],\n",
       "             12: [0.1863640763031007],\n",
       "             13: [0.1915502011538597],\n",
       "             14: [0.19448079021249753],\n",
       "             15: [0.2046309212467749],\n",
       "             16: [0.20680741176168005],\n",
       "             17: [0.21484312604739436],\n",
       "             18: [0.2215145751148262],\n",
       "             19: [0.23206493528810035],\n",
       "             20: [0.24565582307667752]})"
      ]
     },
     "execution_count": 6,
     "metadata": {},
     "output_type": "execute_result"
    }
   ],
   "source": [
    "from cbar.evaluation import Evaluator\n",
    "from cbar.utils import make_relevance_matrix\n",
    "\n",
    "n_relevant = make_relevance_matrix(Q_vec, Y_train).sum(axis=1)\n",
    "\n",
    "evaluator = Evaluator()\n",
    "evaluator.eval(Q_vec, weights, Y_score, Y_test, n_relevant)\n",
    "evaluator.prec_at"
   ]
  },
  {
   "cell_type": "markdown",
   "metadata": {},
   "source": [
    "## Cross-validation\n",
    "\n",
    "The `cv` function in the `cross_validation` module offers an easy way to evaluate a retrieval method on multiple splits of the data. Let's run the same experiment on three folds."
   ]
  },
  {
   "cell_type": "code",
   "execution_count": 7,
   "metadata": {},
   "outputs": [],
   "source": [
    "from cbar.cross_validation import cv"
   ]
  },
  {
   "cell_type": "code",
   "execution_count": null,
   "metadata": {},
   "outputs": [
    {
     "name": "stdout",
     "output_type": "stream",
     "text": [
      "2019-04-08 23:14:47,832 [MainThread  ] [INFO ]  Running CV with 3 folds ...\n"
     ]
    }
   ],
   "source": [
    "cv('cal500', 512, n_folds=3, method='loreta', n0=0.1, valid_interval=1000)"
   ]
  },
  {
   "cell_type": "markdown",
   "metadata": {},
   "source": [
    "The cross-validation results including retrieval method parameters are written to a JSON file. For each dataset three separate result files for mean average precision (MAP), precision-at-*k*, and precision-at-10 as a function of relevant training examples are written to disk. Here are the mean average precision values of the last cross-validation run."
   ]
  },
  {
   "cell_type": "code",
   "execution_count": null,
   "metadata": {},
   "outputs": [],
   "source": [
    "import json\n",
    "import os\n",
    "from cbar.settings import RESULTS_DIR\n",
    "\n",
    "results = json.load(open(os.path.join(RESULTS_DIR, 'cal500_ap.json')))\n",
    "results[results.keys()[-1]]['precision']"
   ]
  },
  {
   "cell_type": "markdown",
   "metadata": {},
   "source": [
    "## Start cross-validation with the CLI\n",
    "\n",
    "This package comes with a simple CLI which makes it easy to start cross-validation experiments from the command line. The CLI enables you to specify a dataset and a retrieval method as well as additional options in one line.\n",
    "\n",
    "To start an experiment on the CAL500 dataset with the LORETA retrieval method, use the following command.\n",
    "\n",
    "```\n",
    "$ cbar crossval --dataset cal500 loreta \n",
    "```\n",
    "\n",
    "This simple command uses all the default parameters for LORETA but you can specify all parameters as arguments to the `loreta` command. To see the available options for the `loreta` command, ask for help like this.\n",
    "\n",
    "```\n",
    "$ cbar crossval loreta --help\n",
    "Usage: cbar crossval loreta [OPTIONS]\n",
    "\n",
    "Options:\n",
    "  -n, --max-iter INTEGER        Maximum number of iterations\n",
    "  -i, --valid-interval INTEGER  Rank of parameter matrix W\n",
    "  -k INTEGER                    Rank of parameter matrix W\n",
    "  --n0 FLOAT                    Step size parameter 1\n",
    "  --n1 FLOAT                    Step size parameter 2\n",
    "  -t, --rank-thresh FLOAT       Threshold for early stopping\n",
    "  -l, --lambda FLOAT            Regularization constant\n",
    "  --loss [warp|auc]             Loss function\n",
    "  -d, --max-dips INTEGER        Maximum number of dips\n",
    "  -v, --verbose                 Verbosity\n",
    "  --help                        Show this message and exit.\n",
    "```"
   ]
  }
 ],
 "metadata": {
  "kernelspec": {
   "display_name": "Python 3",
   "language": "python",
   "name": "python3"
  },
  "language_info": {
   "codemirror_mode": {
    "name": "ipython",
    "version": 3
   },
   "file_extension": ".py",
   "mimetype": "text/x-python",
   "name": "python",
   "nbconvert_exporter": "python",
   "pygments_lexer": "ipython3",
   "version": "3.7.2"
  }
 },
 "nbformat": 4,
 "nbformat_minor": 1
}
